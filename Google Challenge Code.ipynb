{
 "cells": [
  {
   "cell_type": "markdown",
   "metadata": {
    "ExecuteTime": {
     "end_time": "2022-12-12T03:11:34.177784Z",
     "start_time": "2022-12-12T03:11:34.174729Z"
    }
   },
   "source": [
    "# Google Coding Challenge Interview"
   ]
  },
  {
   "cell_type": "markdown",
   "metadata": {},
   "source": [
    "Prompt L1:\n",
    "=============\n",
    "Every lowercase letter [a..z] is replaced with the corresponding one in [z..a], while every other character (including uppercase letters and punctuation) is left untouched. Thus, the word \"\"vmxibkgrlm\"\" becomes -> \"\"encryption\"\".\n",
    "\n",
    "Write a function called solution(s) which takes in a string and returns the deciphered string "
   ]
  },
  {
   "cell_type": "code",
   "execution_count": null,
   "metadata": {},
   "outputs": [],
   "source": [
    "  def solution(x):\n",
    "    y = \"\"\n",
    "    for char in x:\n",
    "      if ord('a') <= ord(char) <= ord('z'):\n",
    "        num_depth = ord(char) - ord('a')\n",
    "        y += chr(ord('z') - num_depth)\n",
    "      else:\n",
    "        y += char\n",
    "    return y"
   ]
  },
  {
   "cell_type": "markdown",
   "metadata": {},
   "source": [
    "Prompt L2,Q1:\n",
    "=============\n",
    "Given a minion ID as a string n representing a nonnegative integer of length k in base b, where 2 <= k <= 9 and 2 <= b <= 10, write a function solution(n, b) which returns the length of the ending cycle of the algorithm above starting with n.\n",
    "\n",
    "For instance, in the example below, solution(210022, 3) would return 3, since iterating on 102212 would return to\n",
    "210111 when done in base 3. If the algorithm reaches a constant, such as 0, then the length is 1.\n",
    "\n",
    "--\n",
    "1) random minion ID n, which is a nonnegative int of length k in base b\n",
    "2) Define x and y as integers of length k. x has the digits of n in descending order, and y has the digits of n in ascending order\n",
    "3) Define z = x - y. Add leading zeros to z to maintain length k if necessary\n",
    "4) Assign n = z to get the next minion ID, and go back to step 2\n",
    "\n",
    "\n",
    "For example, given minion ID n = 1211, k = 4, b = 10 then x = 2111, y = 1112 and z = 2111 - 1112 = 0999. Then the next minion ID will be n = 0999 and the algorithm iterates again: x = 9990, y = 0999 and z = 9990 - 0999 = 8991, and so on.\n",
    "\n",
    "Depending on the values of n, k (derived from n), and b, at some point the algorithm reaches a cycle, such as by reaching a constant value. For example, starting with n = 210022, k = 6, b = 3, the algorithm will reach the cycle of values [210111, 122221, 102212] and it will stay in this cycle no matter how many times it continues iterating. Starting with n = 1211, the routine will reach the integer 6174, and since 7641 - 1467 is 6174, it will stay as that value no matter how many times it iterates."
   ]
  },
  {
   "cell_type": "code",
   "execution_count": 14,
   "metadata": {
    "ExecuteTime": {
     "end_time": "2022-12-11T19:51:51.800638Z",
     "start_time": "2022-12-11T19:51:51.790416Z"
    }
   },
   "outputs": [],
   "source": [
    "import numpy\n",
    "\n",
    "def solution(n, b):\n",
    "    n = str(n)\n",
    "    k = len(n)\n",
    "    id_to_seen_time = {}\n",
    "\n",
    "    time = 0\n",
    "    while (n not in id_to_seen_time):\n",
    "        id_to_seen_time[n] = time\n",
    "        time += 1\n",
    "\n",
    "        # these are in base 10\n",
    "        x = int(''.join(sorted(str(n), reverse=True)), base=b)\n",
    "        y = int(''.join(sorted(str(n))), base=b)\n",
    "        z = x - y\n",
    "\n",
    "        # convert back to base b and pad with 0s\n",
    "        n = numpy.base_repr(z, b).rjust(k, '0')\n",
    "\n",
    "    return time - id_to_seen_time[n]\n"
   ]
  },
  {
   "cell_type": "markdown",
   "metadata": {},
   "source": [
    "Prompt L2, Q2: \n",
    "=============\n",
    "Write a function solution(xs) that takes a list of integers representing the power output levels of each panel in an array, & returns the maximum product of some non-empty subset of those numbers.\n",
    "\n",
    "So, if an array contained panels with power output levels of [2, -3, 1, 0, -5], then the maximum product\n",
    "would be found by taking the subset: xs[0] = 2, xs[1] = -3, xs[4] = -5, giving the product 2*(-3)*(-5) = 30.\n",
    "So solution([2,-3,1,0,-5]) will be \"30\".\n",
    "\n",
    "The final products may be very large, so give the solution as a string representation of the number.\n",
    "\n",
    "Derived cases:\n",
    "  [0 0]   0\n",
    "  [0]     0\n",
    "  [-1]    -1\n",
    "  [0 -1]  0\n",
    "  [0 1]   1\n",
    "  [-1 -1] 1\n",
    "  [-1 1]  1"
   ]
  },
  {
   "cell_type": "code",
   "execution_count": 9,
   "metadata": {
    "ExecuteTime": {
     "end_time": "2022-12-12T03:24:17.432219Z",
     "start_time": "2022-12-12T03:24:17.423330Z"
    }
   },
   "outputs": [],
   "source": [
    "def solution(xs):\n",
    "  if len(xs) == 1:\n",
    "    return str(xs[0])\n",
    "\n",
    "  positive = [i for i in xs if i > 0]\n",
    "  negative = [i for i in xs if i < 0]\n",
    "\n",
    "  if len(negative) % 2 != 0:\n",
    "    negative.remove(max(negative))\n",
    "\n",
    "  if len(positive) == 0 and len(negative) == 0:\n",
    "    return \"0\"\n",
    "\n",
    "  result = 1\n",
    "  for i in positive + negative:\n",
    "    result *= i\n",
    "    \n",
    "  return str(result)"
   ]
  },
  {
   "cell_type": "markdown",
   "metadata": {},
   "source": [
    "Prompt L3, Q1:\n",
    "=============\n",
    "\n",
    "Quantum antimatter fuel comes in small pellets, which is convenient since the many moving parts of the LAMBCHOP each need to be fed fuel one pellet at a time. However, minions dump pellets in bulk into the fuel intake. You need to figure out the most efficient way to sort and shift the pellets down to a single pellet at a time. \n",
    "\n",
    "The fuel control mechanisms have three operations: \n",
    "\n",
    "1) Add one fuel pellet\n",
    "2) Remove one fuel pellet\n",
    "3) Divide the entire group of fuel pellets by 2 (due to the destructive energy released when a quantum antimatter pellet is cut in half, the safety controls will only allow this to happen if there is an even number of pellets)\n",
    "\n",
    "Write a function called solution(n) which takes a positive integer as a string and returns the minimum number of operations needed to transform the number of pellets to 1. The fuel intake control panel can only display a number up to 309 digits long, so there won't ever be more pellets than you can express in that many digits.\n",
    "\n",
    "For example:\n",
    "solution(4) returns 2: 4 -> 2 -> 1\n",
    "solution(15) returns 5: 15 -> 16 -> 8 -> 4 -> 2 -> 1"
   ]
  },
  {
   "cell_type": "code",
   "execution_count": 8,
   "metadata": {
    "ExecuteTime": {
     "end_time": "2022-12-12T16:22:33.221230Z",
     "start_time": "2022-12-12T16:22:33.214191Z"
    }
   },
   "outputs": [],
   "source": [
    "def solution(n):\n",
    "    n = int(n)\n",
    "    counter = 0\n",
    "    \n",
    "    while n > 1:\n",
    "        counter += 1\n",
    "        if n % 2 == 0:\n",
    "            n /= 2\n",
    "        elif n == 3 or n % 4 == 1:\n",
    "            n -= 1\n",
    "        else:\n",
    "            n += 1\n",
    "                \n",
    "    return counter"
   ]
  },
  {
   "cell_type": "markdown",
   "metadata": {},
   "source": [
    "Prompt L3, Q2: \n",
    "=============\n",
    "\n",
    "raw ore ->  randomly changing between forms -> stable form. There may be multiple stable forms that a sample could ultimately reach, not all of which are useful as fuel. \n",
    "\n",
    "Write a function solution(m) that takes an array of array of nonnegative ints representing how many times that state has gone to the next state and return an array of ints for each terminal state giving the exact probabilities of each terminal state, represented as the numerator for each state, then the denominator for all of them at the end and in simplest form. \n",
    "\n",
    "The matrix is at most 10 by 10. It is guaranteed that no matter which state the ore is in, there is a path from that state to a terminal state. That is, the processing will always eventually end in a stable state. The ore starts in state 0. The denominator will fit within a signed 32-bit integer during the calculation, as long as the fraction is simplified regularly. \n",
    "\n",
    "For example, consider the matrix m:\n",
    "   0 1 2 3 4 5\n",
    "  [0,1,0,0,0,1],  # s0, the initial state, goes to s1 and s5 with equal probability\n",
    "  [4,0,0,3,2,0],  # s1 can become s0, s3, or s4, but with different probabilities\n",
    "  [0,0,0,0,0,0],  # s2 is terminal, and unreachable (never observed in practice)\n",
    "  [0,0,0,0,0,0],  # s3 is terminal\n",
    "  [0,0,0,0,0,0],  # s4 is terminal\n",
    "  [0,0,0,0,0,0],  # s5 is terminal \n",
    "\n",
    "1/2*1/3+ 4/9*(1/2*1/3 + 4/9*(1/2+...\n",
    "\n",
    "So, we can consider different paths to terminal states, such as:\n",
    "s0 -> s1 -> s3\n",
    "s0 -> s1 -> s0 -> s1 -> s0 -> s1 -> s4\n",
    "s0 -> s1 -> s0 -> s5\n",
    "\n",
    "Tracing the probabilities of each, we find that\n",
    "s2 has probability 0\n",
    "s3 has probability 3/14\n",
    "s4 has probability 1/7\n",
    "s5 has probability 9/14\n",
    "So, putting that together, and making a common denominator, gives an answer in the form of\n",
    "[s2.numerator, s3.numerator, s4.numerator, s5.numerator, denominator] which is\n",
    "[0, 3, 2, 9, 14].\n",
    "\n",
    "\n",
    "-- Python cases --\n",
    "Input:\n",
    "\n",
    "solution.solution(\n",
    "[[0, 2, 1, 0, 0], \n",
    "[0, 0, 0, 3, 4], \n",
    "[0, 0, 0, 0, 0], \n",
    "[0, 0, 0, 0,0], \n",
    "[0, 0, 0, 0, 0]])\n",
    "Output: [7, 6, 8, 21]\n",
    "\n",
    "Input:\n",
    "solution.solution([\n",
    "[0, 1, 0, 0, 0, 1], \n",
    "[4, 0, 0, 3, 2, 0], \n",
    "[0, 0, 0, 0, 0, 0], \n",
    "[0, 0, 0, 0, 0, 0], \n",
    "[0, 0, 0, 0, 0, 0], \n",
    "[0, 0, 0, 0, 0, 0]])\n",
    "Output: [0, 3, 2, 9, 14]"
   ]
  },
  {
   "cell_type": "code",
   "execution_count": 16,
   "metadata": {
    "ExecuteTime": {
     "end_time": "2022-12-12T17:30:00.331154Z",
     "start_time": "2022-12-12T17:29:56.127089Z"
    }
   },
   "outputs": [],
   "source": [
    "from numpy.linalg import matrix_power"
   ]
  },
  {
   "cell_type": "code",
   "execution_count": null,
   "metadata": {},
   "outputs": [],
   "source": []
  }
 ],
 "metadata": {
  "kernelspec": {
   "display_name": "Python 3",
   "language": "python",
   "name": "python3"
  },
  "language_info": {
   "codemirror_mode": {
    "name": "ipython",
    "version": 3
   },
   "file_extension": ".py",
   "mimetype": "text/x-python",
   "name": "python",
   "nbconvert_exporter": "python",
   "pygments_lexer": "ipython3",
   "version": "3.7.6"
  }
 },
 "nbformat": 4,
 "nbformat_minor": 2
}
